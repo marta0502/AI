{
 "cells": [
  {
   "cell_type": "code",
   "execution_count": 1,
   "metadata": {},
   "outputs": [
    {
     "name": "stderr",
     "output_type": "stream",
     "text": [
      "Building prefix dict from the default dictionary ...\n",
      "Dumping model to file cache C:\\Users\\K410\\AppData\\Local\\Temp\\jieba.cache\n",
      "Loading model cost 0.697 seconds.\n",
      "Prefix dict has been built succesfully.\n"
     ]
    },
    {
     "name": "stdout",
     "output_type": "stream",
     "text": [
      "Full Mode: 我/來/到/台中/教育/大/學\n",
      "Default Mode: 我來/到/台/中/教育/大學\n",
      "我來,到,台,中,教育,大學\n",
      "志明,碩士,畢業,於,台,中,教育,大學,，,後,在,日本,東京大學,深造\n"
     ]
    }
   ],
   "source": [
    "#encoding=utf-8\n",
    "import jieba\n",
    "\n",
    "seg_list = jieba.cut(\"我來到台中教育大學\",cut_all=True)\n",
    "print(\"Full Mode:\", \"/\".join(seg_list))\n",
    "\n",
    "seg_list = jieba.cut(\"我來到台中教育大學\",cut_all=False)\n",
    "print(\"Default Mode:\", \"/\".join(seg_list))\n",
    "\n",
    "seg_list = jieba.cut(\"我來到台中教育大學\")\n",
    "print(\",\".join(seg_list))\n",
    "\n",
    "seg_list = jieba.cut_for_search(\"志明碩士畢業於台中教育大學，後在日本東京大學深造\")\n",
    "print(\",\".join(seg_list))"
   ]
  }
 ],
 "metadata": {
  "kernelspec": {
   "display_name": "Python 3",
   "language": "python",
   "name": "python3"
  },
  "language_info": {
   "codemirror_mode": {
    "name": "ipython",
    "version": 3
   },
   "file_extension": ".py",
   "mimetype": "text/x-python",
   "name": "python",
   "nbconvert_exporter": "python",
   "pygments_lexer": "ipython3",
   "version": "3.6.4"
  }
 },
 "nbformat": 4,
 "nbformat_minor": 2
}
